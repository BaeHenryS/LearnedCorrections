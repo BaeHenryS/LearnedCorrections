{
 "cells": [
  {
   "cell_type": "code",
   "execution_count": 1,
   "metadata": {},
   "outputs": [],
   "source": [
    "# Get File from\n",
    "import os \n",
    "import numpy as np \n",
    "import pandas as pd\n",
    "\n",
    "filepath = \"./output/sim_000000\""
   ]
  },
  {
   "cell_type": "code",
   "execution_count": 6,
   "metadata": {},
   "outputs": [
    {
     "name": "stdout",
     "output_type": "stream",
     "text": [
      "Comparing data1 and data2\n",
      "Max Difference:  1.8961728e-05\n"
     ]
    }
   ],
   "source": [
    "import numpy as np\n",
    "filepath1 = \"/n/home13/henrybae/LearnedCorrections/LearnedCorrections/output/sim_000000\"\n",
    "filepath2 = \"/n/home13/henrybae/LearnedCorrections/LearnedCorrections/output/sim_000001\"\n",
    "data1 = np.load(filepath1 + \"/velocity_000199.npz\", allow_pickle=True)\n",
    "data2 = np.load(filepath2 + \"/velocity_000199.npz\", allow_pickle=True)\n",
    "\n",
    "# Compare each data and print the difference\n",
    "\n",
    "print(\"Comparing data1 and data2\")\n",
    "data1_data = data1['data']\n",
    "data2_data = data2['data']\n",
    "\n",
    "data_diff = np.abs(data1_data - data2_data)\n",
    "print(\"Max Difference: \", np.max())\n",
    "\n"
   ]
  },
  {
   "cell_type": "code",
   "execution_count": 3,
   "metadata": {},
   "outputs": [
    {
     "name": "stderr",
     "output_type": "stream",
     "text": [
      "2024-07-04 08:05:08.337289: I tensorflow/core/util/port.cc:113] oneDNN custom operations are on. You may see slightly different numerical results due to floating-point round-off errors from different computation orders. To turn them off, set the environment variable `TF_ENABLE_ONEDNN_OPTS=0`.\n",
      "2024-07-04 08:05:08.384179: E external/local_xla/xla/stream_executor/cuda/cuda_fft.cc:479] Unable to register cuFFT factory: Attempting to register factory for plugin cuFFT when one has already been registered\n",
      "2024-07-04 08:05:08.402667: E external/local_xla/xla/stream_executor/cuda/cuda_dnn.cc:10575] Unable to register cuDNN factory: Attempting to register factory for plugin cuDNN when one has already been registered\n",
      "2024-07-04 08:05:08.402692: E external/local_xla/xla/stream_executor/cuda/cuda_blas.cc:1442] Unable to register cuBLAS factory: Attempting to register factory for plugin cuBLAS when one has already been registered\n",
      "2024-07-04 08:05:08.414721: I tensorflow/core/platform/cpu_feature_guard.cc:210] This TensorFlow binary is optimized to use available CPU instructions in performance-critical operations.\n",
      "To enable the following instructions: AVX2 AVX512F AVX512_VNNI FMA, in other operations, rebuild TensorFlow with the appropriate compiler flags.\n",
      "2024-07-04 08:05:15.328977: W tensorflow/compiler/tf2tensorrt/utils/py_utils.cc:38] TF-TRT Warning: Could not find TensorRT\n"
     ]
    }
   ],
   "source": [
    "import tensorflow as tf"
   ]
  },
  {
   "cell_type": "code",
   "execution_count": 18,
   "metadata": {},
   "outputs": [
    {
     "name": "stdout",
     "output_type": "stream",
     "text": [
      "Batch number: 0, Epoch number: 0\n",
      "Input batch shape: (20, 128)\n",
      "Output batch shape: (20, 4, 128)\n",
      "Simulation indices: [7 9 7 9 4 1 7 6 6 5 1 8 7 5 3 4 9 3 7 0]\n",
      "Time indices: [ 31 117 139 101  94 155 191 177 181  92  82  80 119  40 183 182  24  35\n",
      "   6 178]\n",
      "Input batch mean: 0.0000, std: 0.0313\n",
      "Output batch mean: 0.0000, std: 0.0318\n",
      "Batch velocity std: 0.0313\n",
      "\n",
      "Batch number: 1, Epoch number: 0\n",
      "Input batch shape: (20, 128)\n",
      "Output batch shape: (20, 4, 128)\n",
      "Simulation indices: [5 0 9 2 0 4 5 0 4 1 5 8 2 7 8 7 5 6 6 5]\n",
      "Time indices: [ 38  34 104 175  24 143  58  63 119 142 127 103 119  82  53 170  70   9\n",
      "  29  17]\n",
      "Input batch mean: 0.0000, std: 0.0259\n",
      "Output batch mean: 0.0000, std: 0.0264\n",
      "Batch velocity std: 0.0259\n",
      "\n",
      "Batch number: 2, Epoch number: 0\n",
      "Input batch shape: (20, 128)\n",
      "Output batch shape: (20, 4, 128)\n",
      "Simulation indices: [2 6 2 1 9 1 6 1 5 1 9 4 3 9 9 0 3 3 9 7]\n",
      "Time indices: [  3  72 129 176  42 105 128  92 142 128  66   1 161 137 113 142 125  45\n",
      " 192 101]\n",
      "Input batch mean: 0.0000, std: 0.0221\n",
      "Output batch mean: 0.0000, std: 0.0225\n",
      "Batch velocity std: 0.0221\n",
      "\n",
      "Batch number: 3, Epoch number: 0\n",
      "Input batch shape: (20, 128)\n",
      "Output batch shape: (20, 4, 128)\n",
      "Simulation indices: [0 6 7 0 4 0 2 5 3 8 4 0 4 6 4 1 8 8 4 2]\n",
      "Time indices: [ 32   2  48 103 144  54 168 141  91 149 122 193 186 168  95  45  54 151\n",
      " 160  45]\n",
      "Input batch mean: 0.0000, std: 0.0321\n",
      "Output batch mean: 0.0000, std: 0.0327\n",
      "Batch velocity std: 0.0321\n",
      "\n",
      "Batch number: 4, Epoch number: 0\n",
      "Input batch shape: (20, 128)\n",
      "Output batch shape: (20, 4, 128)\n",
      "Simulation indices: [2 7 2 6 1 0 2 4 0 6 1 9 9 6 2 5 4 6 7 1]\n",
      "Time indices: [181 164 127  58  28  60 185 189  41 141  81 146 183  60  21  31  71 170\n",
      " 110 101]\n",
      "Input batch mean: 0.0000, std: 0.0322\n",
      "Output batch mean: 0.0000, std: 0.0328\n",
      "Batch velocity std: 0.0322\n",
      "\n"
     ]
    }
   ],
   "source": [
    "import numpy as np\n",
    "import os\n",
    "\n",
    "class DataLoader:\n",
    "    def __init__(self, simulation_path, batch_size, k):\n",
    "        self.simulation_path = simulation_path\n",
    "        self.batch_size = batch_size\n",
    "        self.k = k\n",
    "        self.num_simulations, self.num_timesteps = self._count_simulations_and_timesteps()\n",
    "        self.data = self._load_velocity_data()\n",
    "        self.batches, self.batch_velocity_std = self._construct_batches()\n",
    "        self.current_batch_index = 0\n",
    "        self.current_epoch = 0\n",
    "\n",
    "    def _count_simulations_and_timesteps(self):\n",
    "        # Count the number of simulation directories\n",
    "        simulation_dirs = [d for d in os.listdir(self.simulation_path) if os.path.isdir(os.path.join(self.simulation_path, d))]\n",
    "        num_simulations = len(simulation_dirs)\n",
    "\n",
    "        # Count the number of velocity files in the first simulation directory\n",
    "        first_sim_dir = os.path.join(self.simulation_path, simulation_dirs[0])\n",
    "        velocity_files = [f for f in os.listdir(first_sim_dir) if f.startswith('velocity') and f.endswith('.npz')]\n",
    "        num_timesteps = len(velocity_files)\n",
    "\n",
    "        return num_simulations, num_timesteps\n",
    "\n",
    "    def _load_velocity_data(self):\n",
    "        data = []\n",
    "        for sim in range(self.num_simulations):\n",
    "            sim_data = []\n",
    "            sim_dir = os.path.join(self.simulation_path, f'sim_{sim:06d}')\n",
    "            for timestep in range(self.num_timesteps):\n",
    "                file_path = os.path.join(sim_dir, f'velocity_{timestep:06d}.npz')\n",
    "                with np.load(file_path) as npz_file:\n",
    "                    sim_data.append(npz_file['data'])\n",
    "            data.append(sim_data)\n",
    "        return data\n",
    "\n",
    "    def _get_velocity_std(self, sim_num): \n",
    "        # Calculate the standard deviation of the velocity\n",
    "        velocity_std = np.std(self.data[sim_num])\n",
    "        return velocity_std \n",
    "\n",
    "    def _construct_batches(self):\n",
    "        input_data = []\n",
    "        output_data = []\n",
    "        sim_indices = []\n",
    "        time_indices = []\n",
    "        batch_velocity_std = []\n",
    "\n",
    "        for sim_index, sim_data in enumerate(self.data):\n",
    "            for i in range(len(sim_data) - self.k):\n",
    "                input_data.append(sim_data[i])\n",
    "                output_data.append(sim_data[i + 1: i + self.k + 1])\n",
    "                sim_indices.append(sim_index)\n",
    "                time_indices.append(i)\n",
    "\n",
    "        # Create indices for shuffling\n",
    "        indices = np.arange(len(input_data))\n",
    "        np.random.shuffle(indices)\n",
    "\n",
    "        # Shuffle data\n",
    "        input_data = np.array(input_data)[indices]\n",
    "        output_data = np.array(output_data)[indices]\n",
    "        sim_indices = np.array(sim_indices)[indices]\n",
    "        time_indices = np.array(time_indices)[indices]\n",
    "\n",
    "        # Create batches\n",
    "        num_batches = len(input_data) // self.batch_size\n",
    "        batches = []\n",
    "        for i in range(num_batches):\n",
    "            batch_input = input_data[i * self.batch_size: (i + 1) * self.batch_size]\n",
    "            batch_output = output_data[i * self.batch_size: (i + 1) * self.batch_size]\n",
    "            batch_sim_indices = sim_indices[i * self.batch_size: (i + 1) * self.batch_size]\n",
    "            batch_time_indices = time_indices[i * self.batch_size: (i + 1) * self.batch_size]\n",
    "            batches.append((batch_input, batch_output, batch_sim_indices, batch_time_indices))\n",
    "\n",
    "            # Calculate and store standard deviation of the velocity of the batch\n",
    "            velocity_std = np.std(batch_input)\n",
    "            batch_velocity_std.append(velocity_std)\n",
    "\n",
    "        return batches, batch_velocity_std\n",
    "\n",
    "    def get_batches(self):\n",
    "        return self.batches, self.batch_velocity_std\n",
    "\n",
    "    def next_batch(self):\n",
    "        if self.current_batch_index >= len(self.batches):\n",
    "            self.current_batch_index = 0\n",
    "            self.current_epoch += 1\n",
    "\n",
    "        batch = self.batches[self.current_batch_index]\n",
    "        batch_std = self.batch_velocity_std[self.current_batch_index]\n",
    "        self.current_batch_index += 1\n",
    "        return batch, self.current_batch_index - 1, self.current_epoch, batch_std\n",
    "\n",
    "\n",
    "# Test Usage\n",
    "simulation_path = './output'  # path to the directory containing the simulations\n",
    "batch_size = 20  # desired batch size\n",
    "k = 4  # future timesteps interval, e.g., 3 timesteps ahead\n",
    "\n",
    "data_loader = DataLoader(simulation_path, batch_size, k)\n",
    "\n",
    "# Iterating through batches and printing batch/epoch info with statistics\n",
    "for _ in range(5):  # Assume we want to see the first 5 batches\n",
    "    batch, batch_num, epoch_num, batch_std = data_loader.next_batch()\n",
    "    input_batch, output_batch, sim_indices, time_indices = batch\n",
    "\n",
    "    input_mean = np.mean(input_batch)\n",
    "    input_std = np.std(input_batch)\n",
    "    output_mean = np.mean(output_batch)\n",
    "    output_std = np.std(output_batch)\n",
    "\n",
    "    print(f'Batch number: {batch_num}, Epoch number: {epoch_num}')\n",
    "    print(f'Input batch shape: {input_batch.shape}')\n",
    "    print(f'Output batch shape: {output_batch.shape}')\n",
    "    print(f'Simulation indices: {sim_indices}')\n",
    "    print(f'Time indices: {time_indices}')\n",
    "    print(f'Input batch mean: {input_mean:.4f}, std: {input_std:.4f}')\n",
    "    print(f'Output batch mean: {output_mean:.4f}, std: {output_std:.4f}')\n",
    "    print(f'Batch velocity std: {batch_std:.4f}\\n')\n"
   ]
  },
  {
   "cell_type": "code",
   "execution_count": 19,
   "metadata": {},
   "outputs": [],
   "source": [
    "simulation_path = './output'  # path to the directory containing the simulations\n",
    "k = 5  # future timestep interval"
   ]
  },
  {
   "cell_type": "code",
   "execution_count": 20,
   "metadata": {},
   "outputs": [
    {
     "name": "stdout",
     "output_type": "stream",
     "text": [
      "[0.9 1.9 2.9 3.9 3.7]\n"
     ]
    }
   ],
   "source": [
    "import numpy as np\n",
    "from scipy.signal import convolve\n",
    "\n",
    "# Input data and velocity function\n",
    "a = np.array([1, 2, 3, 4, 5])\n",
    "v = np.array([0.2, 0.5, 0.3])\n",
    "\n",
    "# Perform the convolution\n",
    "result = convolve(a, v, mode='same')\n",
    "\n",
    "print(result)\n"
   ]
  },
  {
   "cell_type": "code",
   "execution_count": 31,
   "metadata": {},
   "outputs": [],
   "source": [
    "import tensorflow as tf"
   ]
  },
  {
   "cell_type": "code",
   "execution_count": 32,
   "metadata": {},
   "outputs": [],
   "source": [
    "LR = 1e-4\n",
    "\n",
    "optimizer = tf.keras.optimizers.Adam(learning_rate=LR) "
   ]
  },
  {
   "cell_type": "code",
   "execution_count": null,
   "metadata": {},
   "outputs": [
    {
     "name": "stdout",
     "output_type": "stream",
     "text": [
      "CenteredGrid[(xˢ=128), size=\u001b[94m(x=6.283)\u001b[0m, extrapolation=periodic]\n"
     ]
    }
   ],
   "source": [
    "#OLD \n",
    "import burgers_1d\n",
    "from phi.flow import *\n",
    "\n",
    "simulator = burgers_1d.Burgers_1d()\n",
    "\n",
    "def to_phiflow_format(data):\n",
    "    # TODO: take in resolution\n",
    "    return CenteredGrid(math.tensor(data, spatial('x')), extrapolation.PERIODIC, x=int(128), bounds=Box['x', slice(0,2*np.pi)])\n",
    "\n",
    "def to_numpy_format(data):\n",
    "    return data.values.numpy('x')\n",
    "\n",
    "\n",
    "def transformation(velocity_function, output_data):\n",
    "    # The output data are taken to inner product with the velocity function, but only radially around each point. So if the output is \n",
    "    # [a_0, a_1, a_2, a_3, a_4], then the output will be, from the input:\n",
    "    # [a_2 * v_0 + a_3 * v_1 + a_4 * v_2, a_1 * v_0 + a_2 * v_1 + a_3 * v_2 + a_4 * v_3, a_0 * v_0 + a_1 * v_1 + a_2 * v_2 + a_3 * v_3 + a_4 * v_4, a_0 * v_1 + a_1 * v_2 + a_2 * v_3 + a_3 * v_4 + a_4 * v_5, ...]\n",
    "    # Make output data just a 1D array\n",
    "    output_data = tf.reshape(output_data, [-1])\n",
    "    return convolve(velocity_function, output_data, mode='same')\n",
    "\n",
    "\n",
    "\n",
    "\n",
    "def training_step(input, output, simulationnumber, init_time, velocity_std, model, optimizer):\n",
    "    '''\n",
    "    Input Shape: (dim_x)\n",
    "    Output Shape: (k, dim_x)\n",
    "    '''\n",
    "    simulator.reset()\n",
    "    # simulation_path/sim_{simulationnumber:06d}/params.json\n",
    "    print(simulationnumber)\n",
    "    simulator.change_forcing_dir(os.path.join(simulation_path, f'sim_{simulationnumber:06d}', 'params.json'))\n",
    "    \n",
    "\n",
    "    prediction, coefficients = [input], [0]\n",
    "\n",
    "    with tf.GradientTape() as tape:\n",
    "        # PhiFlow Simulations will happen here:\n",
    "        for i in range(k):\n",
    "            # Can throw an error - see if this needs to be encompased in an array\n",
    "            prediction_flow = simulator.step(to_phiflow_format(prediction[-1]), t = init_time + i)\n",
    "            prediction += [to_numpy_format(prediction_flow)]\n",
    "            \n",
    "\n",
    "            # model_input = prediction[-1]\n",
    "            model_input = tf.expand_dims(tf.expand_dims(prediction[-1], 0), -1)  # Reshape to (1, 128, 1)\n",
    "\n",
    "            model_output = model(model_input)\n",
    "            coefficients += model_output\n",
    "\n",
    "\n",
    "            correction = transformation(output[i], coefficients)\n",
    "\n",
    "            # prediction[-1] = prediction[-1] + correction\n",
    "            prediction[-1] = prediction[-1] + model_output.numpy().reshape(-1)\n",
    "\n",
    "        # Calculate the Loss Function - \n",
    "\n",
    "\n",
    "\n",
    "        # Calculate the Loss Function\n",
    "        loss = tf.reduce_mean(tf.square(prediction[1:] - model_output))\n",
    "        print(loss)\n",
    "\n",
    "        # Calculate the Gradients\n",
    "        gradients = tape.gradient(loss, model.trainable_variables)  # Add this line to see the computed gradients\n",
    "        optimizer.apply_gradients(zip(gradients, model.trainable_variables))\n",
    "\n",
    "        return loss\n",
    "    \n"
   ]
  },
  {
   "cell_type": "code",
   "execution_count": 37,
   "metadata": {},
   "outputs": [
    {
     "name": "stdout",
     "output_type": "stream",
     "text": [
      "CenteredGrid[(xˢ=128), size=\u001b[94m(x=6.283)\u001b[0m, extrapolation=periodic]\n"
     ]
    }
   ],
   "source": [
    "import burgers_1d\n",
    "from phi.flow import *\n",
    "import tensorflow as tf\n",
    "\n",
    "simulator = burgers_1d.Burgers_1d()\n",
    "\n",
    "def to_phiflow_format(data):\n",
    "    return CenteredGrid(math.tensor(data, spatial('x')), extrapolation.PERIODIC, x=int(128), bounds=Box['x', slice(0, 2 * np.pi)])\n",
    "\n",
    "def to_numpy_format(data):\n",
    "    return data.values.numpy('x')\n",
    "\n",
    "# def transformation(velocity_function, output_data):\n",
    "#     output_data = tf.reshape(output_data, [-1])\n",
    "#     return convolve(velocity_function, output_data, mode='same')\n",
    "\n",
    "@tf.function\n",
    "def transformation(velocity_function, output_data):\n",
    "    # Reshape velocity_function to (1, length, 1) and output_data to (filter_length, 1, 1)\n",
    "    velocity_function = tf.reshape(velocity_function, [1, -1, 1])  # (1, 128, 1)\n",
    "    output_data = tf.reshape(output_data, [-1, 1, 1])  # (16, 1, 1)\n",
    "\n",
    "    # Perform the 1D convolution\n",
    "    convolved_data = tf.nn.conv1d(velocity_function, output_data, stride=1, padding='SAME')\n",
    "\n",
    "    # Squeeze the output to remove unnecessary dimensions, resulting in (128,)\n",
    "    return tf.squeeze(convolved_data, axis=[0, 2])\n",
    "\n",
    "@tf.function\n",
    "def training_step(input, output, simulationnumber, init_time, velocity_std, model, optimizer):\n",
    "    '''\n",
    "    Input Shape: (dim_x)\n",
    "    Output Shape: (k, dim_x)\n",
    "    '''\n",
    "    simulator.reset()\n",
    "\n",
    "\n",
    "    \n",
    "\n",
    "    simulator.change_forcing_dir(os.path.join(simulation_path, f'sim_{simulationnumber:06d}', 'params.json'))\n",
    "    \n",
    "\n",
    "    prediction, coefficients = [input], [0]\n",
    "\n",
    "    with tf.GradientTape() as tape:\n",
    "        for i in range(k):\n",
    "            prediction_flow = simulator.step(to_phiflow_format(prediction[-1]), t=init_time + i)\n",
    "            prediction_flow = to_numpy_format(prediction_flow)\n",
    "\n",
    "            prediction_flow_normalized = np.divide(prediction_flow, (velocity_std + 1e-6))\n",
    "    \n",
    "            prediction += [prediction_flow]\n",
    "\n",
    "            model_input = tf.expand_dims(tf.expand_dims(prediction_flow_normalized, 0), -1)  # Reshape to (1, 128, 1)\n",
    "            # Get shape of model_input\n",
    "\n",
    "            model_output = model(model_input)\n",
    "            coefficients += model_output\n",
    "\n",
    "            correction = transformation(prediction[-1], model_output)\n",
    "            #prediction[-1] = prediction[-1] + tf.reshape(model_output, [-1])\n",
    "            prediction[-1] = prediction[-1] + correction\n",
    "\n",
    "        # Calculate the Loss Function\n",
    "        final_prediction = tf.stack(prediction[1:]) \n",
    "    \n",
    "        loss = tf.reduce_sum(tf.square(final_prediction - output))\n",
    "        # Calculate the Gradients\n",
    "        gradients = tape.gradient(loss, model.trainable_variables)\n",
    "        optimizer.apply_gradients(zip(gradients, model.trainable_variables))\n",
    "\n",
    "        return loss\n"
   ]
  },
  {
   "cell_type": "code",
   "execution_count": 38,
   "metadata": {},
   "outputs": [],
   "source": [
    "# #TESTING\n",
    "# def training_step(input, output, simulationnumber, init_time, velocity_std, model, optimizer):\n",
    "#     '''\n",
    "#     Input Shape: (dim_x)\n",
    "#     Output Shape: (k, dim_x)\n",
    "#     '''\n",
    "#     simulator.reset()\n",
    "\n",
    "#     simulator.change_forcing_dir(os.path.join(simulation_path, f'sim_{simulationnumber:06d}', 'params.json'))\n",
    "    \n",
    "#     # Normalize input and output by the standard deviation\n",
    "#     normalized_input = input / velocity_std\n",
    "#     normalized_output = output / velocity_std\n",
    "\n",
    "#     prediction, coefficients = [normalized_input], [0]\n",
    "\n",
    "#     with tf.GradientTape() as tape:\n",
    "#         for i in range(k):\n",
    "#             prediction_flow = simulator.step(to_phiflow_format(prediction[-1]), t=init_time + i)\n",
    "#             prediction += [to_numpy_format(prediction_flow)]\n",
    "\n",
    "#             model_input = tf.expand_dims(tf.expand_dims(prediction[-1], 0), -1)  # Reshape to (1, 128, 1)\n",
    "#             model_output = model(model_input)\n",
    "#             coefficients += model_output\n",
    "\n",
    "#             correction = transformation(normalized_output[i], coefficients)\n",
    "#             prediction[-1] = prediction[-1] + tf.reshape(model_output, [-1])\n",
    "\n",
    "#         # Calculate the loss for each step\n",
    "#         loss_steps = [\n",
    "#             tf.nn.l2_loss(\n",
    "#                 (normalized_output[i] - prediction[i+1]) * velocity_std\n",
    "#             )\n",
    "#             for i in range(k)\n",
    "#         ]\n",
    "        \n",
    "#         # Sum the losses and average them\n",
    "#         total_loss = tf.reduce_sum(loss_steps) \n",
    "\n",
    "#         # Calculate the gradients\n",
    "#         gradients = tape.gradient(total_loss, model.trainable_variables)\n",
    "#         optimizer.apply_gradients(zip(gradients, model.trainable_variables))\n",
    "\n",
    "#         return total_loss\n"
   ]
  },
  {
   "cell_type": "code",
   "execution_count": 24,
   "metadata": {},
   "outputs": [
    {
     "name": "stderr",
     "output_type": "stream",
     "text": [
      "2024-07-06 15:08:15.278816: I tensorflow/core/util/port.cc:113] oneDNN custom operations are on. You may see slightly different numerical results due to floating-point round-off errors from different computation orders. To turn them off, set the environment variable `TF_ENABLE_ONEDNN_OPTS=0`.\n",
      "2024-07-06 15:08:19.154436: E external/local_xla/xla/stream_executor/cuda/cuda_fft.cc:479] Unable to register cuFFT factory: Attempting to register factory for plugin cuFFT when one has already been registered\n",
      "2024-07-06 15:08:20.473236: E external/local_xla/xla/stream_executor/cuda/cuda_dnn.cc:10575] Unable to register cuDNN factory: Attempting to register factory for plugin cuDNN when one has already been registered\n",
      "2024-07-06 15:08:20.483289: E external/local_xla/xla/stream_executor/cuda/cuda_blas.cc:1442] Unable to register cuBLAS factory: Attempting to register factory for plugin cuBLAS when one has already been registered\n",
      "2024-07-06 15:08:23.185668: I tensorflow/core/platform/cpu_feature_guard.cc:210] This TensorFlow binary is optimized to use available CPU instructions in performance-critical operations.\n",
      "To enable the following instructions: AVX2 AVX512F AVX512_VNNI AVX512_BF16 AVX512_FP16 AVX_VNNI AMX_TILE AMX_INT8 AMX_BF16 FMA, in other operations, rebuild TensorFlow with the appropriate compiler flags.\n",
      "2024-07-06 15:08:38.494776: W tensorflow/compiler/tf2tensorrt/utils/py_utils.cc:38] TF-TRT Warning: Could not find TensorRT\n"
     ]
    }
   ],
   "source": [
    "import tensorflow as tf\n",
    "from tensorflow.keras import layers, models\n"
   ]
  },
  {
   "cell_type": "code",
   "execution_count": 25,
   "metadata": {},
   "outputs": [
    {
     "name": "stderr",
     "output_type": "stream",
     "text": [
      "/n/home13/henrybae/.conda/envs/tf2.16.1_cuda12.1/lib/python3.10/site-packages/keras/src/layers/core/input_layer.py:26: UserWarning: Argument `input_shape` is deprecated. Use `shape` instead.\n",
      "  warnings.warn(\n"
     ]
    },
    {
     "data": {
      "text/html": [
       "<pre style=\"white-space:pre;overflow-x:auto;line-height:normal;font-family:Menlo,'DejaVu Sans Mono',consolas,'Courier New',monospace\"><span style=\"font-weight: bold\">Model: \"sequential\"</span>\n",
       "</pre>\n"
      ],
      "text/plain": [
       "\u001b[1mModel: \"sequential\"\u001b[0m\n"
      ]
     },
     "metadata": {},
     "output_type": "display_data"
    },
    {
     "data": {
      "text/html": [
       "<pre style=\"white-space:pre;overflow-x:auto;line-height:normal;font-family:Menlo,'DejaVu Sans Mono',consolas,'Courier New',monospace\">┏━━━━━━━━━━━━━━━━━━━━━━━━━━━━━━━━━┳━━━━━━━━━━━━━━━━━━━━━━━━┳━━━━━━━━━━━━━━━┓\n",
       "┃<span style=\"font-weight: bold\"> Layer (type)                    </span>┃<span style=\"font-weight: bold\"> Output Shape           </span>┃<span style=\"font-weight: bold\">       Param # </span>┃\n",
       "┡━━━━━━━━━━━━━━━━━━━━━━━━━━━━━━━━━╇━━━━━━━━━━━━━━━━━━━━━━━━╇━━━━━━━━━━━━━━━┩\n",
       "│ conv1d (<span style=\"color: #0087ff; text-decoration-color: #0087ff\">Conv1D</span>)                 │ (<span style=\"color: #00d7ff; text-decoration-color: #00d7ff\">None</span>, <span style=\"color: #00af00; text-decoration-color: #00af00\">128</span>, <span style=\"color: #00af00; text-decoration-color: #00af00\">32</span>)        │           <span style=\"color: #00af00; text-decoration-color: #00af00\">128</span> │\n",
       "├─────────────────────────────────┼────────────────────────┼───────────────┤\n",
       "│ max_pooling1d (<span style=\"color: #0087ff; text-decoration-color: #0087ff\">MaxPooling1D</span>)    │ (<span style=\"color: #00d7ff; text-decoration-color: #00d7ff\">None</span>, <span style=\"color: #00af00; text-decoration-color: #00af00\">64</span>, <span style=\"color: #00af00; text-decoration-color: #00af00\">32</span>)         │             <span style=\"color: #00af00; text-decoration-color: #00af00\">0</span> │\n",
       "├─────────────────────────────────┼────────────────────────┼───────────────┤\n",
       "│ conv1d_1 (<span style=\"color: #0087ff; text-decoration-color: #0087ff\">Conv1D</span>)               │ (<span style=\"color: #00d7ff; text-decoration-color: #00d7ff\">None</span>, <span style=\"color: #00af00; text-decoration-color: #00af00\">64</span>, <span style=\"color: #00af00; text-decoration-color: #00af00\">64</span>)         │         <span style=\"color: #00af00; text-decoration-color: #00af00\">6,208</span> │\n",
       "├─────────────────────────────────┼────────────────────────┼───────────────┤\n",
       "│ max_pooling1d_1 (<span style=\"color: #0087ff; text-decoration-color: #0087ff\">MaxPooling1D</span>)  │ (<span style=\"color: #00d7ff; text-decoration-color: #00d7ff\">None</span>, <span style=\"color: #00af00; text-decoration-color: #00af00\">32</span>, <span style=\"color: #00af00; text-decoration-color: #00af00\">64</span>)         │             <span style=\"color: #00af00; text-decoration-color: #00af00\">0</span> │\n",
       "├─────────────────────────────────┼────────────────────────┼───────────────┤\n",
       "│ conv1d_2 (<span style=\"color: #0087ff; text-decoration-color: #0087ff\">Conv1D</span>)               │ (<span style=\"color: #00d7ff; text-decoration-color: #00d7ff\">None</span>, <span style=\"color: #00af00; text-decoration-color: #00af00\">32</span>, <span style=\"color: #00af00; text-decoration-color: #00af00\">128</span>)        │        <span style=\"color: #00af00; text-decoration-color: #00af00\">24,704</span> │\n",
       "├─────────────────────────────────┼────────────────────────┼───────────────┤\n",
       "│ max_pooling1d_2 (<span style=\"color: #0087ff; text-decoration-color: #0087ff\">MaxPooling1D</span>)  │ (<span style=\"color: #00d7ff; text-decoration-color: #00d7ff\">None</span>, <span style=\"color: #00af00; text-decoration-color: #00af00\">16</span>, <span style=\"color: #00af00; text-decoration-color: #00af00\">128</span>)        │             <span style=\"color: #00af00; text-decoration-color: #00af00\">0</span> │\n",
       "├─────────────────────────────────┼────────────────────────┼───────────────┤\n",
       "│ conv1d_3 (<span style=\"color: #0087ff; text-decoration-color: #0087ff\">Conv1D</span>)               │ (<span style=\"color: #00d7ff; text-decoration-color: #00d7ff\">None</span>, <span style=\"color: #00af00; text-decoration-color: #00af00\">16</span>, <span style=\"color: #00af00; text-decoration-color: #00af00\">256</span>)        │        <span style=\"color: #00af00; text-decoration-color: #00af00\">98,560</span> │\n",
       "├─────────────────────────────────┼────────────────────────┼───────────────┤\n",
       "│ max_pooling1d_3 (<span style=\"color: #0087ff; text-decoration-color: #0087ff\">MaxPooling1D</span>)  │ (<span style=\"color: #00d7ff; text-decoration-color: #00d7ff\">None</span>, <span style=\"color: #00af00; text-decoration-color: #00af00\">8</span>, <span style=\"color: #00af00; text-decoration-color: #00af00\">256</span>)         │             <span style=\"color: #00af00; text-decoration-color: #00af00\">0</span> │\n",
       "├─────────────────────────────────┼────────────────────────┼───────────────┤\n",
       "│ flatten (<span style=\"color: #0087ff; text-decoration-color: #0087ff\">Flatten</span>)               │ (<span style=\"color: #00d7ff; text-decoration-color: #00d7ff\">None</span>, <span style=\"color: #00af00; text-decoration-color: #00af00\">2048</span>)           │             <span style=\"color: #00af00; text-decoration-color: #00af00\">0</span> │\n",
       "├─────────────────────────────────┼────────────────────────┼───────────────┤\n",
       "│ dense (<span style=\"color: #0087ff; text-decoration-color: #0087ff\">Dense</span>)                   │ (<span style=\"color: #00d7ff; text-decoration-color: #00d7ff\">None</span>, <span style=\"color: #00af00; text-decoration-color: #00af00\">256</span>)            │       <span style=\"color: #00af00; text-decoration-color: #00af00\">524,544</span> │\n",
       "├─────────────────────────────────┼────────────────────────┼───────────────┤\n",
       "│ dense_1 (<span style=\"color: #0087ff; text-decoration-color: #0087ff\">Dense</span>)                 │ (<span style=\"color: #00d7ff; text-decoration-color: #00d7ff\">None</span>, <span style=\"color: #00af00; text-decoration-color: #00af00\">256</span>)            │        <span style=\"color: #00af00; text-decoration-color: #00af00\">65,792</span> │\n",
       "├─────────────────────────────────┼────────────────────────┼───────────────┤\n",
       "│ dense_2 (<span style=\"color: #0087ff; text-decoration-color: #0087ff\">Dense</span>)                 │ (<span style=\"color: #00d7ff; text-decoration-color: #00d7ff\">None</span>, <span style=\"color: #00af00; text-decoration-color: #00af00\">64</span>)             │        <span style=\"color: #00af00; text-decoration-color: #00af00\">16,448</span> │\n",
       "├─────────────────────────────────┼────────────────────────┼───────────────┤\n",
       "│ dense_3 (<span style=\"color: #0087ff; text-decoration-color: #0087ff\">Dense</span>)                 │ (<span style=\"color: #00d7ff; text-decoration-color: #00d7ff\">None</span>, <span style=\"color: #00af00; text-decoration-color: #00af00\">16</span>)             │         <span style=\"color: #00af00; text-decoration-color: #00af00\">1,040</span> │\n",
       "└─────────────────────────────────┴────────────────────────┴───────────────┘\n",
       "</pre>\n"
      ],
      "text/plain": [
       "┏━━━━━━━━━━━━━━━━━━━━━━━━━━━━━━━━━┳━━━━━━━━━━━━━━━━━━━━━━━━┳━━━━━━━━━━━━━━━┓\n",
       "┃\u001b[1m \u001b[0m\u001b[1mLayer (type)                   \u001b[0m\u001b[1m \u001b[0m┃\u001b[1m \u001b[0m\u001b[1mOutput Shape          \u001b[0m\u001b[1m \u001b[0m┃\u001b[1m \u001b[0m\u001b[1m      Param #\u001b[0m\u001b[1m \u001b[0m┃\n",
       "┡━━━━━━━━━━━━━━━━━━━━━━━━━━━━━━━━━╇━━━━━━━━━━━━━━━━━━━━━━━━╇━━━━━━━━━━━━━━━┩\n",
       "│ conv1d (\u001b[38;5;33mConv1D\u001b[0m)                 │ (\u001b[38;5;45mNone\u001b[0m, \u001b[38;5;34m128\u001b[0m, \u001b[38;5;34m32\u001b[0m)        │           \u001b[38;5;34m128\u001b[0m │\n",
       "├─────────────────────────────────┼────────────────────────┼───────────────┤\n",
       "│ max_pooling1d (\u001b[38;5;33mMaxPooling1D\u001b[0m)    │ (\u001b[38;5;45mNone\u001b[0m, \u001b[38;5;34m64\u001b[0m, \u001b[38;5;34m32\u001b[0m)         │             \u001b[38;5;34m0\u001b[0m │\n",
       "├─────────────────────────────────┼────────────────────────┼───────────────┤\n",
       "│ conv1d_1 (\u001b[38;5;33mConv1D\u001b[0m)               │ (\u001b[38;5;45mNone\u001b[0m, \u001b[38;5;34m64\u001b[0m, \u001b[38;5;34m64\u001b[0m)         │         \u001b[38;5;34m6,208\u001b[0m │\n",
       "├─────────────────────────────────┼────────────────────────┼───────────────┤\n",
       "│ max_pooling1d_1 (\u001b[38;5;33mMaxPooling1D\u001b[0m)  │ (\u001b[38;5;45mNone\u001b[0m, \u001b[38;5;34m32\u001b[0m, \u001b[38;5;34m64\u001b[0m)         │             \u001b[38;5;34m0\u001b[0m │\n",
       "├─────────────────────────────────┼────────────────────────┼───────────────┤\n",
       "│ conv1d_2 (\u001b[38;5;33mConv1D\u001b[0m)               │ (\u001b[38;5;45mNone\u001b[0m, \u001b[38;5;34m32\u001b[0m, \u001b[38;5;34m128\u001b[0m)        │        \u001b[38;5;34m24,704\u001b[0m │\n",
       "├─────────────────────────────────┼────────────────────────┼───────────────┤\n",
       "│ max_pooling1d_2 (\u001b[38;5;33mMaxPooling1D\u001b[0m)  │ (\u001b[38;5;45mNone\u001b[0m, \u001b[38;5;34m16\u001b[0m, \u001b[38;5;34m128\u001b[0m)        │             \u001b[38;5;34m0\u001b[0m │\n",
       "├─────────────────────────────────┼────────────────────────┼───────────────┤\n",
       "│ conv1d_3 (\u001b[38;5;33mConv1D\u001b[0m)               │ (\u001b[38;5;45mNone\u001b[0m, \u001b[38;5;34m16\u001b[0m, \u001b[38;5;34m256\u001b[0m)        │        \u001b[38;5;34m98,560\u001b[0m │\n",
       "├─────────────────────────────────┼────────────────────────┼───────────────┤\n",
       "│ max_pooling1d_3 (\u001b[38;5;33mMaxPooling1D\u001b[0m)  │ (\u001b[38;5;45mNone\u001b[0m, \u001b[38;5;34m8\u001b[0m, \u001b[38;5;34m256\u001b[0m)         │             \u001b[38;5;34m0\u001b[0m │\n",
       "├─────────────────────────────────┼────────────────────────┼───────────────┤\n",
       "│ flatten (\u001b[38;5;33mFlatten\u001b[0m)               │ (\u001b[38;5;45mNone\u001b[0m, \u001b[38;5;34m2048\u001b[0m)           │             \u001b[38;5;34m0\u001b[0m │\n",
       "├─────────────────────────────────┼────────────────────────┼───────────────┤\n",
       "│ dense (\u001b[38;5;33mDense\u001b[0m)                   │ (\u001b[38;5;45mNone\u001b[0m, \u001b[38;5;34m256\u001b[0m)            │       \u001b[38;5;34m524,544\u001b[0m │\n",
       "├─────────────────────────────────┼────────────────────────┼───────────────┤\n",
       "│ dense_1 (\u001b[38;5;33mDense\u001b[0m)                 │ (\u001b[38;5;45mNone\u001b[0m, \u001b[38;5;34m256\u001b[0m)            │        \u001b[38;5;34m65,792\u001b[0m │\n",
       "├─────────────────────────────────┼────────────────────────┼───────────────┤\n",
       "│ dense_2 (\u001b[38;5;33mDense\u001b[0m)                 │ (\u001b[38;5;45mNone\u001b[0m, \u001b[38;5;34m64\u001b[0m)             │        \u001b[38;5;34m16,448\u001b[0m │\n",
       "├─────────────────────────────────┼────────────────────────┼───────────────┤\n",
       "│ dense_3 (\u001b[38;5;33mDense\u001b[0m)                 │ (\u001b[38;5;45mNone\u001b[0m, \u001b[38;5;34m16\u001b[0m)             │         \u001b[38;5;34m1,040\u001b[0m │\n",
       "└─────────────────────────────────┴────────────────────────┴───────────────┘\n"
      ]
     },
     "metadata": {},
     "output_type": "display_data"
    },
    {
     "data": {
      "text/html": [
       "<pre style=\"white-space:pre;overflow-x:auto;line-height:normal;font-family:Menlo,'DejaVu Sans Mono',consolas,'Courier New',monospace\"><span style=\"font-weight: bold\"> Total params: </span><span style=\"color: #00af00; text-decoration-color: #00af00\">737,424</span> (2.81 MB)\n",
       "</pre>\n"
      ],
      "text/plain": [
       "\u001b[1m Total params: \u001b[0m\u001b[38;5;34m737,424\u001b[0m (2.81 MB)\n"
      ]
     },
     "metadata": {},
     "output_type": "display_data"
    },
    {
     "data": {
      "text/html": [
       "<pre style=\"white-space:pre;overflow-x:auto;line-height:normal;font-family:Menlo,'DejaVu Sans Mono',consolas,'Courier New',monospace\"><span style=\"font-weight: bold\"> Trainable params: </span><span style=\"color: #00af00; text-decoration-color: #00af00\">737,424</span> (2.81 MB)\n",
       "</pre>\n"
      ],
      "text/plain": [
       "\u001b[1m Trainable params: \u001b[0m\u001b[38;5;34m737,424\u001b[0m (2.81 MB)\n"
      ]
     },
     "metadata": {},
     "output_type": "display_data"
    },
    {
     "data": {
      "text/html": [
       "<pre style=\"white-space:pre;overflow-x:auto;line-height:normal;font-family:Menlo,'DejaVu Sans Mono',consolas,'Courier New',monospace\"><span style=\"font-weight: bold\"> Non-trainable params: </span><span style=\"color: #00af00; text-decoration-color: #00af00\">0</span> (0.00 B)\n",
       "</pre>\n"
      ],
      "text/plain": [
       "\u001b[1m Non-trainable params: \u001b[0m\u001b[38;5;34m0\u001b[0m (0.00 B)\n"
      ]
     },
     "metadata": {},
     "output_type": "display_data"
    }
   ],
   "source": [
    "batch_size = 32  # desired batch size\n",
    "\n",
    "data_loader = DataLoader(simulation_path, batch_size, k)\n",
    "\n",
    "num_coef = 8\n",
    "\n",
    "\n",
    "# Convolutional Neural Network Model - 1-D\n",
    "model = tf.keras.Sequential([\n",
    "    # Input layer\n",
    "    layers.InputLayer(input_shape=(128, 1)),\n",
    "    \n",
    "    # Convolutional layer 1\n",
    "    layers.Conv1D(filters=32, kernel_size=3, activation='relu', padding='same'),\n",
    "    layers.MaxPooling1D(pool_size=2),\n",
    "    \n",
    "    # Convolutional layer 2\n",
    "    layers.Conv1D(filters=64, kernel_size=3, activation='relu', padding='same'),\n",
    "    layers.MaxPooling1D(pool_size=2),\n",
    "    \n",
    "    # Convolutional layer 3\n",
    "    layers.Conv1D(filters=128, kernel_size=3, activation='relu', padding='same'),\n",
    "    layers.MaxPooling1D(pool_size=2),\n",
    "    \n",
    "    # Convolutional layer 4\n",
    "    layers.Conv1D(filters=256, kernel_size=3, activation='relu', padding='same'),\n",
    "    layers.MaxPooling1D(pool_size=2),\n",
    "    \n",
    "    # Flattening the output for the Dense layer\n",
    "    layers.Flatten(),\n",
    "    \n",
    "    # Dense layer 1\n",
    "    layers.Dense(256, activation='relu'),\n",
    "    \n",
    "    # Dense layer 2\n",
    "    layers.Dense(256, activation='relu'),\n",
    "    \n",
    "    # Dense layer 3\n",
    "    layers.Dense(64, activation='relu'),\n",
    "    \n",
    "    # Output layer\n",
    "    layers.Dense(16)\n",
    "])\n",
    "\n",
    "# Compile the model (example for a regression problem)\n",
    "model.compile(optimizer='adam')  # Use 'categorical_crossentropy' for classification\n",
    "\n",
    "# Summary of the model\n",
    "model.summary()\n",
    "\n",
    "\n",
    "\n"
   ]
  },
  {
   "cell_type": "code",
   "execution_count": 26,
   "metadata": {},
   "outputs": [],
   "source": [
    "train_loss = tf.keras.metrics.Mean(name='train_loss')\n"
   ]
  },
  {
   "cell_type": "code",
   "execution_count": 34,
   "metadata": {},
   "outputs": [],
   "source": [
    "train_step_jit = math.jit_compile(training_step)"
   ]
  },
  {
   "cell_type": "code",
   "execution_count": 39,
   "metadata": {},
   "outputs": [
    {
     "name": "stdout",
     "output_type": "stream",
     "text": [
      "Epoch 1/1\n"
     ]
    },
    {
     "ename": "TypeError",
     "evalue": "in user code:\n\n    File \"/tmp/ipykernel_2696699/2061396843.py\", line 40, in training_step  *\n        simulator.change_forcing_dir(os.path.join(simulation_path, f'sim_{simulationnumber:06d}', 'params.json'))\n\n    TypeError: unsupported format string passed to SymbolicTensor.__format__\n",
     "output_type": "error",
     "traceback": [
      "\u001b[0;31m---------------------------------------------------------------------------\u001b[0m",
      "\u001b[0;31mTypeError\u001b[0m                                 Traceback (most recent call last)",
      "Cell \u001b[0;32mIn[39], line 13\u001b[0m\n\u001b[1;32m      9\u001b[0m batch_losses \u001b[38;5;241m=\u001b[39m []  \u001b[38;5;66;03m# Store losses for the current batch\u001b[39;00m\n\u001b[1;32m     11\u001b[0m \u001b[38;5;28;01mfor\u001b[39;00m i \u001b[38;5;129;01min\u001b[39;00m \u001b[38;5;28mrange\u001b[39m(\u001b[38;5;28mlen\u001b[39m(input_batch)):\n\u001b[1;32m     12\u001b[0m     \u001b[38;5;66;03m# Assuming train_step_jit and train_loss are defined elsewhere and work as intended\u001b[39;00m\n\u001b[0;32m---> 13\u001b[0m     loss \u001b[38;5;241m=\u001b[39m \u001b[43mtraining_step\u001b[49m\u001b[43m(\u001b[49m\u001b[43minput_batch\u001b[49m\u001b[43m[\u001b[49m\u001b[43mi\u001b[49m\u001b[43m]\u001b[49m\u001b[43m,\u001b[49m\u001b[43m \u001b[49m\u001b[43moutput_batch\u001b[49m\u001b[43m[\u001b[49m\u001b[43mi\u001b[49m\u001b[43m]\u001b[49m\u001b[43m,\u001b[49m\u001b[43m \u001b[49m\u001b[43msim_indices\u001b[49m\u001b[43m[\u001b[49m\u001b[43mi\u001b[49m\u001b[43m]\u001b[49m\u001b[43m,\u001b[49m\u001b[43m \u001b[49m\u001b[43mtime_indices\u001b[49m\u001b[43m[\u001b[49m\u001b[43mi\u001b[49m\u001b[43m]\u001b[49m\u001b[43m,\u001b[49m\u001b[43m \u001b[49m\u001b[43mvelocity_std\u001b[49m\u001b[43m,\u001b[49m\u001b[43m \u001b[49m\u001b[43mmodel\u001b[49m\u001b[43m,\u001b[49m\u001b[43m \u001b[49m\u001b[43moptimizer\u001b[49m\u001b[43m)\u001b[49m\n\u001b[1;32m     14\u001b[0m     batch_losses\u001b[38;5;241m.\u001b[39mappend(loss)\n\u001b[1;32m     16\u001b[0m \u001b[38;5;66;03m# Print the average loss for the current batch\u001b[39;00m\n",
      "File \u001b[0;32m~/.conda/envs/tf2.16.1_cuda12.1/lib/python3.10/site-packages/tensorflow/python/util/traceback_utils.py:153\u001b[0m, in \u001b[0;36mfilter_traceback.<locals>.error_handler\u001b[0;34m(*args, **kwargs)\u001b[0m\n\u001b[1;32m    151\u001b[0m \u001b[38;5;28;01mexcept\u001b[39;00m \u001b[38;5;167;01mException\u001b[39;00m \u001b[38;5;28;01mas\u001b[39;00m e:\n\u001b[1;32m    152\u001b[0m   filtered_tb \u001b[38;5;241m=\u001b[39m _process_traceback_frames(e\u001b[38;5;241m.\u001b[39m__traceback__)\n\u001b[0;32m--> 153\u001b[0m   \u001b[38;5;28;01mraise\u001b[39;00m e\u001b[38;5;241m.\u001b[39mwith_traceback(filtered_tb) \u001b[38;5;28;01mfrom\u001b[39;00m \u001b[38;5;28;01mNone\u001b[39;00m\n\u001b[1;32m    154\u001b[0m \u001b[38;5;28;01mfinally\u001b[39;00m:\n\u001b[1;32m    155\u001b[0m   \u001b[38;5;28;01mdel\u001b[39;00m filtered_tb\n",
      "File \u001b[0;32m/tmp/__autograph_generated_fileijjt0cdf.py:15\u001b[0m, in \u001b[0;36mouter_factory.<locals>.inner_factory.<locals>.tf__training_step\u001b[0;34m(input, output, simulationnumber, init_time, velocity_std, model, optimizer)\u001b[0m\n\u001b[1;32m     13\u001b[0m retval_ \u001b[38;5;241m=\u001b[39m ag__\u001b[38;5;241m.\u001b[39mUndefinedReturnValue()\n\u001b[1;32m     14\u001b[0m ag__\u001b[38;5;241m.\u001b[39mconverted_call(ag__\u001b[38;5;241m.\u001b[39mld(simulator)\u001b[38;5;241m.\u001b[39mreset, (), \u001b[38;5;28;01mNone\u001b[39;00m, fscope)\n\u001b[0;32m---> 15\u001b[0m ag__\u001b[38;5;241m.\u001b[39mconverted_call(ag__\u001b[38;5;241m.\u001b[39mld(simulator)\u001b[38;5;241m.\u001b[39mchange_forcing_dir, (ag__\u001b[38;5;241m.\u001b[39mconverted_call(ag__\u001b[38;5;241m.\u001b[39mld(os)\u001b[38;5;241m.\u001b[39mpath\u001b[38;5;241m.\u001b[39mjoin, (ag__\u001b[38;5;241m.\u001b[39mld(simulation_path), \u001b[38;5;124mf\u001b[39m\u001b[38;5;124m'\u001b[39m\u001b[38;5;124msim_\u001b[39m\u001b[38;5;132;01m{\u001b[39;00mag__\u001b[38;5;241m.\u001b[39mld(simulationnumber)\u001b[38;5;132;01m:\u001b[39;00m\u001b[38;5;124m06d\u001b[39m\u001b[38;5;132;01m}\u001b[39;00m\u001b[38;5;124m'\u001b[39m, \u001b[38;5;124m'\u001b[39m\u001b[38;5;124mparams.json\u001b[39m\u001b[38;5;124m'\u001b[39m), \u001b[38;5;28;01mNone\u001b[39;00m, fscope),), \u001b[38;5;28;01mNone\u001b[39;00m, fscope)\n\u001b[1;32m     16\u001b[0m (prediction, coefficients) \u001b[38;5;241m=\u001b[39m ([ag__\u001b[38;5;241m.\u001b[39mld(\u001b[38;5;28minput\u001b[39m)], [\u001b[38;5;241m0\u001b[39m])\n\u001b[1;32m     17\u001b[0m \u001b[38;5;28;01mwith\u001b[39;00m ag__\u001b[38;5;241m.\u001b[39mld(tf)\u001b[38;5;241m.\u001b[39mGradientTape() \u001b[38;5;28;01mas\u001b[39;00m tape:\n",
      "\u001b[0;31mTypeError\u001b[0m: in user code:\n\n    File \"/tmp/ipykernel_2696699/2061396843.py\", line 40, in training_step  *\n        simulator.change_forcing_dir(os.path.join(simulation_path, f'sim_{simulationnumber:06d}', 'params.json'))\n\n    TypeError: unsupported format string passed to SymbolicTensor.__format__\n"
     ]
    }
   ],
   "source": [
    "Epochs = 1\n",
    "\n",
    "for epoch in range(Epochs):\n",
    "    print(f\"Epoch {epoch + 1}/{Epochs}\")\n",
    "    batches, batch_velocity_stds = data_loader.get_batches()  # Correctly receive both returned lists\n",
    "    for batch, velocity_std in zip(batches, batch_velocity_stds):  # Use zip to iterate over both lists simultaneously\n",
    "        input_batch, output_batch, sim_indices, time_indices = batch  # Correctly unpack the batch\n",
    "        \n",
    "        batch_losses = []  # Store losses for the current batch\n",
    "        \n",
    "        for i in range(len(input_batch)):\n",
    "            # Assuming train_step_jit and train_loss are defined elsewhere and work as intended\n",
    "            loss = training_step(input_batch[i], output_batch[i], sim_indices[i], time_indices[i], velocity_std, model, optimizer)\n",
    "            batch_losses.append(loss)\n",
    "        \n",
    "        # Print the average loss for the current batch\n",
    "        avg_batch_loss = tf.reduce_mean(batch_losses)\n",
    "        print(f\"Batch average loss: {avg_batch_loss:.8f}\")\n",
    "    \n",
    "    print(\"End of epoch\\n\")"
   ]
  },
  {
   "cell_type": "code",
   "execution_count": 213,
   "metadata": {},
   "outputs": [
    {
     "name": "stderr",
     "output_type": "stream",
     "text": [
      "/Users/henrybae/miniconda3/envs/90R/lib/python3.9/site-packages/keras/src/engine/training.py:3103: UserWarning: You are saving your model as an HDF5 file via `model.save()`. This file format is considered legacy. We recommend using instead the native Keras format, e.g. `model.save('my_model.keras')`.\n",
      "  saving_api.save_model(\n"
     ]
    }
   ],
   "source": [
    "model.save('./nn_final.h5')\n",
    "model.save('./nn_final.keras')"
   ]
  },
  {
   "cell_type": "code",
   "execution_count": 214,
   "metadata": {},
   "outputs": [],
   "source": [
    "# Load the Model:\n",
    "from tensorflow.keras import models\n",
    "\n",
    "model = models.load_model('./nn_final.h5')"
   ]
  },
  {
   "cell_type": "code",
   "execution_count": 221,
   "metadata": {},
   "outputs": [
    {
     "name": "stdout",
     "output_type": "stream",
     "text": [
      "200\n"
     ]
    },
    {
     "data": {
      "image/png": "[encoded data removed]",
      "text/plain": [
       "<Figure size 640x480 with 1 Axes>"
      ]
     },
     "metadata": {},
     "output_type": "display_data"
    }
   ],
   "source": [
    "\n",
    "\n",
    "def simulate_all(): \n",
    "    # Take the first one for now as testing\n",
    "    data = data_loader.data[0]\n",
    "    velocity_std = data_loader. _get_velocity_std(0)\n",
    "\n",
    "    # TODO: Change - for testing \n",
    "    param_path = os.path.join(simulation_path, 'sim_000000', 'params.json')\n",
    "    simulator.change_forcing_dir(param_path)\n",
    "    \n",
    "    simulation_nocorrection = []\n",
    "    simulation_correction = []\n",
    "\n",
    "    simulation_nocorrection.append(data[0])\n",
    "    simulation_correction.append(data[0])\n",
    "\n",
    "    # Note that dt = 0.001\n",
    "    for i in range(len(data)-1):\n",
    "        # Run the PhiFlow Simulation:\n",
    "        simulation_nocorrection.append(to_numpy_format(simulator.step(to_phiflow_format(simulation_nocorrection[-1]), t = i * 0.001)))\n",
    "    \n",
    "    # Run the PhiFlow Simulation with Correction:\n",
    "    for i in range(len(data)-1):\n",
    "       \n",
    "        prediction_flow = simulator.step(to_phiflow_format(simulation_correction[-1]), t=i * 0.001)\n",
    "        prediction_flow = to_numpy_format(prediction_flow)\n",
    "\n",
    "        prediction_flow_normalized = np.divide(prediction_flow, (velocity_std + 1e-6))\n",
    "\n",
    "        simulation_correction += [prediction_flow]\n",
    "\n",
    "        model_input = tf.expand_dims(tf.expand_dims(prediction_flow_normalized, 0), -1)  # Reshape to (1, 128, 1)\n",
    "        # Get shape of model_input\n",
    "\n",
    "        model_output = model(model_input)\n",
    "        \n",
    "\n",
    "        correction = transformation(simulation_correction[-1], model_output)\n",
    "        #prediction[-1] = prediction[-1] + tf.reshape(model_output, [-1])\n",
    "        simulation_correction[-1] = simulation_correction[-1] + correction\n",
    "    return simulation_nocorrection, simulation_correction\n",
    "\n",
    "# For each time calculate the l2 norm of the difference between the two simulations then plot it \n",
    "simulation_nocorrection, simulation_correction = simulate_all()\n",
    "\n",
    "l2_norms_nocorrection = [np.linalg.norm(data_loader.data[0][i] - simulation_nocorrection[i]) for i in range(len(simulation_nocorrection))]\n",
    "l2_norms_correction = [np.linalg.norm(data_loader.data[0][i] - simulation_correction[i]) for i in range(len(simulation_correction))]\n",
    "\n",
    "\n",
    "\n",
    "\n",
    "\n",
    "        \n",
    "    \n",
    "    \n",
    "test_data = data_loader.data[0]\n",
    "print(len(test_data))    \n",
    "\n"
   ]
  },
  {
   "cell_type": "code",
   "execution_count": 223,
   "metadata": {},
   "outputs": [
    {
     "data": {
      "text/plain": [
       "<matplotlib.legend.Legend at 0x36e7a27c0>"
      ]
     },
     "execution_count": 223,
     "metadata": {},
     "output_type": "execute_result"
    },
    {
     "data": {
      "image/png": "[encoded data removed]",
      "text/plain": [
       "<Figure size 640x480 with 1 Axes>"
      ]
     },
     "metadata": {},
     "output_type": "display_data"
    }
   ],
   "source": [
    "import matplotlib.pyplot as plt\n",
    "\n",
    "plt.plot(l2_norms_nocorrection, label='No Correction')\n",
    "plt.plot(l2_norms_correction, label='With Correction')\n",
    "plt.legend()\n"
   ]
  },
  {
   "cell_type": "code",
   "execution_count": null,
   "metadata": {},
   "outputs": [],
   "source": []
  }
 ],
 "metadata": {
  "kernelspec": {
   "display_name": "90R",
   "language": "python",
   "name": "python3"
  },
  "language_info": {
   "codemirror_mode": {
    "name": "ipython",
    "version": 3
   },
   "file_extension": ".py",
   "mimetype": "text/x-python",
   "name": "python",
   "nbconvert_exporter": "python",
   "pygments_lexer": "ipython3",
   "version": "3.10.14"
  }
 },
 "nbformat": 4,
 "nbformat_minor": 2
}

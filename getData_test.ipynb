{
 "cells": [
  {
   "cell_type": "code",
   "execution_count": 45,
   "metadata": {},
   "outputs": [],
   "source": [
    "import os\n",
    "import numpy as np\n",
    "\n",
    "base_dir = '1d-burgers-spectral/spectral_train'\n",
    "dirs = os.listdir(base_dir)\n",
    "\n",
    "data_list = []\n",
    "for dir in dirs:\n",
    "    if dir.startswith('sim_'):\n",
    "        file_path = os.path.join(base_dir, dir, 'data.npz')\n",
    "        if os.path.exists(file_path):\n",
    "            data = np.load(file_path)\n",
    "            data_list.append(data)"
   ]
  },
  {
   "cell_type": "code",
   "execution_count": 49,
   "metadata": {},
   "outputs": [
    {
     "name": "stdout",
     "output_type": "stream",
     "text": [
      "(201, 1024)\n",
      "[0.    0.001 0.002 0.003 0.004 0.005 0.006 0.007 0.008 0.009 0.01  0.011\n",
      " 0.012 0.013 0.014 0.015 0.016 0.017 0.018 0.019 0.02  0.021 0.022 0.023\n",
      " 0.024 0.025 0.026 0.027 0.028 0.029 0.03  0.031 0.032 0.033 0.034 0.035\n",
      " 0.036 0.037 0.038 0.039 0.04  0.041 0.042 0.043 0.044 0.045 0.046 0.047\n",
      " 0.048 0.049 0.05  0.051 0.052 0.053 0.054 0.055 0.056 0.057 0.058 0.059\n",
      " 0.06  0.061 0.062 0.063 0.064 0.065 0.066 0.067 0.068 0.069 0.07  0.071\n",
      " 0.072 0.073 0.074 0.075 0.076 0.077 0.078 0.079 0.08  0.081 0.082 0.083\n",
      " 0.084 0.085 0.086 0.087 0.088 0.089 0.09  0.091 0.092 0.093 0.094 0.095\n",
      " 0.096 0.097 0.098 0.099 0.1   0.101 0.102 0.103 0.104 0.105 0.106 0.107\n",
      " 0.108 0.109 0.11  0.111 0.112 0.113 0.114 0.115 0.116 0.117 0.118 0.119\n",
      " 0.12  0.121 0.122 0.123 0.124 0.125 0.126 0.127 0.128 0.129 0.13  0.131\n",
      " 0.132 0.133 0.134 0.135 0.136 0.137 0.138 0.139 0.14  0.141 0.142 0.143\n",
      " 0.144 0.145 0.146 0.147 0.148 0.149 0.15  0.151 0.152 0.153 0.154 0.155\n",
      " 0.156 0.157 0.158 0.159 0.16  0.161 0.162 0.163 0.164 0.165 0.166 0.167\n",
      " 0.168 0.169 0.17  0.171 0.172 0.173 0.174 0.175 0.176 0.177 0.178 0.179\n",
      " 0.18  0.181 0.182 0.183 0.184 0.185 0.186 0.187 0.188 0.189 0.19  0.191\n",
      " 0.192 0.193 0.194 0.195 0.196 0.197 0.198 0.199 0.2  ]\n"
     ]
    }
   ],
   "source": [
    "print(data_list[0]['u_list'].shape)\n",
    "print(data_list[0]['t_list'])"
   ]
  },
  {
   "cell_type": "code",
   "execution_count": 70,
   "metadata": {},
   "outputs": [
    {
     "name": "stdout",
     "output_type": "stream",
     "text": [
      "(128,)\n"
     ]
    }
   ],
   "source": [
    "import os\n",
    "import numpy as np\n",
    "\n",
    "base_dir = '1d-burgers/1d-lowres-test'\n",
    "dirs = os.listdir(base_dir)\n",
    "\n",
    "data_list = []\n",
    "for dir in dirs:\n",
    "    if dir.startswith('sim_000000'):\n",
    "        sim_dir = os.path.join(base_dir, dir)\n",
    "        files = os.listdir(sim_dir)\n",
    "        for file in files:\n",
    "            if file.startswith('velocity_'):\n",
    "                file_path = os.path.join(sim_dir, file)\n",
    "                if os.path.exists(file_path):\n",
    "                    data = np.load(file_path, allow_pickle=True)\n",
    "                    data_list.append(data)\n",
    "\n",
    "\n",
    "# Assuming data_list is your list of dictionaries\n",
    "arrays = [item['data'] for item in data_list]\n",
    "\n",
    "# Stack arrays along the first\n",
    "combined = np.stack(arrays, axis=0)\n",
    "\n",
    "print(combined.shape)  # Should output: (128, 200)"
   ]
  },
  {
   "cell_type": "code",
   "execution_count": 60,
   "metadata": {},
   "outputs": [
    {
     "name": "stdout",
     "output_type": "stream",
     "text": [
      "NpzFile '1d-burgers/1d-lowres-test/sim_000002/velocity_000078.npz' with keys: dim_names, dim_types, dim_item_names, field_type, lower...\n"
     ]
    }
   ],
   "source": [
    "print(data_list[3])"
   ]
  },
  {
   "cell_type": "code",
   "execution_count": 38,
   "metadata": {},
   "outputs": [
    {
     "name": "stdout",
     "output_type": "stream",
     "text": [
      "dim_names\n",
      "['x']\n",
      "dim_types\n",
      "['spatial']\n",
      "dim_item_names\n",
      "[None]\n",
      "field_type\n",
      "CenteredGrid\n",
      "lower\n",
      "[0]\n",
      "upper\n",
      "[6.2831855]\n",
      "bounds_item_names\n",
      "['x']\n",
      "extrapolation\n",
      "{'type': 'periodic'}\n",
      "data\n",
      "[-8.73939097e-02 -9.69890505e-02 -1.02752462e-01 -1.02238946e-01\n",
      " -9.48775709e-02 -8.08079541e-02 -6.06494918e-02 -3.54205966e-02\n",
      " -6.46414701e-03  2.46358477e-02  5.60748614e-02  8.60522687e-02\n",
      "  1.12844184e-01  1.34876832e-01  1.50824875e-01  1.59688011e-01\n",
      "  1.60870627e-01  1.54234692e-01  1.40132770e-01  1.19399875e-01\n",
      "  9.33079049e-02  6.34713620e-02  3.17099132e-02 -1.09497938e-04\n",
      " -3.01765464e-02 -5.70329763e-02 -7.96048194e-02 -9.72383246e-02\n",
      " -1.09699391e-01 -1.17132768e-01 -1.19995609e-01 -1.18972681e-01\n",
      " -1.14884734e-01 -1.08596548e-01 -1.00930147e-01 -9.25891995e-02\n",
      " -8.41006115e-02 -7.57680237e-02 -6.76653609e-02 -5.96405938e-02\n",
      " -5.13539053e-02 -4.23368551e-02 -3.20696123e-02 -2.00673826e-02\n",
      " -5.95485326e-03  1.04657430e-02  2.91384142e-02  4.97069657e-02\n",
      "  7.15645701e-02  9.38359797e-02  1.15446337e-01  1.35154903e-01\n",
      "  1.51654378e-01  1.63644269e-01  1.69925705e-01  1.69498801e-01\n",
      "  1.61669463e-01  1.46142453e-01  1.23093866e-01  9.32380706e-02\n",
      "  5.78173697e-02  1.85605567e-02 -2.23817844e-02 -6.25851825e-02\n",
      " -9.96825770e-02 -1.31572396e-01 -1.56555727e-01 -1.73429027e-01\n",
      " -1.81565836e-01 -1.80901051e-01 -1.71894088e-01 -1.55459896e-01\n",
      " -1.32872835e-01 -1.05656110e-01 -7.55253434e-02 -4.42368202e-02\n",
      " -1.35393748e-02  1.49240987e-02  3.97253260e-02  5.98248839e-02\n",
      "  7.44936839e-02  8.34165961e-02  8.66833255e-02  8.47870260e-02\n",
      "  7.85704479e-02  6.91513345e-02  5.77965155e-02  4.58140709e-02\n",
      "  3.44206318e-02  2.46076714e-02  1.70885660e-02  1.22260693e-02\n",
      "  1.00466805e-02  1.02566741e-02  1.22984741e-02  1.54327238e-02\n",
      "  1.88210327e-02  2.16181017e-02  2.30596401e-02  2.25450732e-02\n",
      "  1.96983125e-02  1.44185033e-02  6.90238783e-03 -2.37357384e-03\n",
      " -1.26738865e-02 -2.30800342e-02 -3.26003246e-02 -4.02832888e-02\n",
      " -4.53017056e-02 -4.70548682e-02 -4.52338085e-02 -3.98476087e-02\n",
      " -3.12361475e-02 -2.00439803e-02 -7.17196660e-03  6.29303791e-03\n",
      "  1.91297587e-02  3.01160123e-02  3.81134525e-02  4.21725027e-02\n",
      "  4.16011810e-02  3.60601433e-02  2.56164428e-02  1.07836351e-02\n",
      " -7.51195569e-03 -2.79017147e-02 -4.86965552e-02 -6.78555220e-02\n",
      " -8.24062526e-02]\n"
     ]
    }
   ],
   "source": [
    "for key in list(data_list[0].keys()):\n",
    "    print(key)\n",
    "    print(data_list[0][key])\n",
    "\n"
   ]
  },
  {
   "cell_type": "code",
   "execution_count": 39,
   "metadata": {},
   "outputs": [
    {
     "name": "stdout",
     "output_type": "stream",
     "text": [
      "(129,)\n"
     ]
    }
   ],
   "source": [
    "print(data_list[0]['data'].shape)"
   ]
  },
  {
   "cell_type": "code",
   "execution_count": null,
   "metadata": {},
   "outputs": [],
   "source": []
  }
 ],
 "metadata": {
  "kernelspec": {
   "display_name": "90R",
   "language": "python",
   "name": "python3"
  },
  "language_info": {
   "codemirror_mode": {
    "name": "ipython",
    "version": 3
   },
   "file_extension": ".py",
   "mimetype": "text/x-python",
   "name": "python",
   "nbconvert_exporter": "python",
   "pygments_lexer": "ipython3",
   "version": "3.9.18"
  }
 },
 "nbformat": 4,
 "nbformat_minor": 2
}

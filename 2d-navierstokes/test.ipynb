{
 "cells": [
  {
   "cell_type": "code",
   "execution_count": 2,
   "metadata": {},
   "outputs": [
    {
     "name": "stdout",
     "output_type": "stream",
     "text": [
      "StaggeredGrid[(xˢ=128, yˢ=128, vectorᶜ=x,y), size=\u001b[94m(x=512, y=512)\u001b[0m \u001b[93mint64\u001b[0m, extrapolation=periodic]\n",
      "StaggeredGrid[(timeᵇ=6, xˢ=512, yˢ=512, vectorᶜ=x,y), size=\u001b[94m(x=512, y=512)\u001b[0m \u001b[93mint64\u001b[0m, extrapolation=periodic]\n",
      "CenteredGrid[(timeᵇ=6, xˢ=512, yˢ=512), size=\u001b[94m(x=512, y=512)\u001b[0m \u001b[93mint64\u001b[0m, extrapolation=periodic]\n"
     ]
    }
   ],
   "source": [
    "print(navier_stokes_simulation.advection_diffusion_sum_combined[0])\n",
    "\n",
    "print(navier_stokes_simulation.velocity_trj)\n",
    "print(navier_stokes_simulation.pressure_trj)"
   ]
  },
  {
   "cell_type": "code",
   "execution_count": 1,
   "metadata": {},
   "outputs": [
    {
     "name": "stderr",
     "output_type": "stream",
     "text": [
      "2024-07-10 01:12:58.924711: I tensorflow/core/util/port.cc:113] oneDNN custom operations are on. You may see slightly different numerical results due to floating-point round-off errors from different computation orders. To turn them off, set the environment variable `TF_ENABLE_ONEDNN_OPTS=0`.\n",
      "2024-07-10 01:12:58.972947: E external/local_xla/xla/stream_executor/cuda/cuda_fft.cc:479] Unable to register cuFFT factory: Attempting to register factory for plugin cuFFT when one has already been registered\n",
      "2024-07-10 01:12:58.993061: E external/local_xla/xla/stream_executor/cuda/cuda_dnn.cc:10575] Unable to register cuDNN factory: Attempting to register factory for plugin cuDNN when one has already been registered\n",
      "2024-07-10 01:12:58.993102: E external/local_xla/xla/stream_executor/cuda/cuda_blas.cc:1442] Unable to register cuBLAS factory: Attempting to register factory for plugin cuBLAS when one has already been registered\n",
      "2024-07-10 01:12:59.007576: I tensorflow/core/platform/cpu_feature_guard.cc:210] This TensorFlow binary is optimized to use available CPU instructions in performance-critical operations.\n",
      "To enable the following instructions: AVX2 AVX512F AVX512_VNNI AVX512_BF16 AVX512_FP16 AVX_VNNI AMX_TILE AMX_INT8 AMX_BF16 FMA, in other operations, rebuild TensorFlow with the appropriate compiler flags.\n",
      "2024-07-10 01:13:05.110264: W tensorflow/compiler/tf2tensorrt/utils/py_utils.cc:38] TF-TRT Warning: Could not find TensorRT\n",
      "/n/home13/henrybae/.conda/envs/tf2.16.1_cuda12.1/lib/python3.10/site-packages/phi/field/_field_io.py:50: FutureWarning: Instance checks on Grid are deprecated and will be removed in version 3.0. Use the methods instance.is_grid, instance.is_point_cloud, instance.is_centered and instance.is_staggered instead.\n",
      "  if isinstance(field, Grid):\n",
      "/n/home13/henrybae/.conda/envs/tf2.16.1_cuda12.1/lib/python3.10/site-packages/phi/field/_field_io.py:45: FutureWarning: Instance checks on StaggeredGrid are deprecated and will be removed in version 3.0. Use the methods instance.is_grid, instance.is_point_cloud, instance.is_centered and instance.is_staggered instead.\n",
      "  if isinstance(field, StaggeredGrid):\n"
     ]
    },
    {
     "name": "stdout",
     "output_type": "stream",
     "text": [
      "Simulation complete. Output saved to ./simulation_output\n"
     ]
    }
   ],
   "source": [
    "from navierstokes import NavierStokes\n",
    "\n",
    "navier_stokes_simulation = NavierStokes(output='./simulation_output', viscosity=0.1)\n",
    "navier_stokes_simulation.simulate_and_generate()\n",
    "\n",
    "\n"
   ]
  },
  {
   "cell_type": "code",
   "execution_count": null,
   "metadata": {},
   "outputs": [],
   "source": []
  }
 ],
 "metadata": {
  "kernelspec": {
   "display_name": "Python 3",
   "language": "python",
   "name": "python3"
  },
  "language_info": {
   "codemirror_mode": {
    "name": "ipython",
    "version": 3
   },
   "file_extension": ".py",
   "mimetype": "text/x-python",
   "name": "python",
   "nbconvert_exporter": "python",
   "pygments_lexer": "ipython3",
   "version": "3.10.14"
  }
 },
 "nbformat": 4,
 "nbformat_minor": 2
}
